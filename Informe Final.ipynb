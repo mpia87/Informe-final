{
 "cells": [
  {
   "cell_type": "code",
   "execution_count": null,
   "id": "dea36c5d",
   "metadata": {},
   "outputs": [],
   "source": [
    "#INFORME FINAL"
   ]
  },
  {
   "cell_type": "code",
   "execution_count": null,
   "id": "e9c37200",
   "metadata": {},
   "outputs": [],
   "source": [
    "#DESCRIPCIÓN DEL PROBLEMA Y DISCUSIÓN DE ANTECEDENTES: \n",
    "#En el siguiente estudio se analizará cuál es la mejor área para iniciar un negocio\n",
    "#de acuerdo a los lugares con mayor densidad y flujo comercial, así como, los puntos de \n",
    "#interés que presenta el área de Manhattan.\n",
    "#Se analizará primero de forma genérica cuáles son las zonas mas concurridas y con mayores puntos de interés,\n",
    "#y luego, se filtrarán las zonas de acuerdo al tipo de negocio que el cliente esté interesado en iniciar."
   ]
  },
  {
   "cell_type": "code",
   "execution_count": null,
   "id": "e6daec15",
   "metadata": {},
   "outputs": [],
   "source": [
    "#DESCRIPCIÓN DE LOS DATOS Y CÓMO SE UTILIZAN EN EL PRESENTE ESTUDIO:\n",
    "# Primero nos valdremos de los datos de la API de Google Places que nos brindará la información de los puntos de interés y los\n",
    "#establecimientos existentes, lo cual ayudará a vislumbrar las áreas con mayor densidad y flujo comercial a través \n",
    "# del análisis que nos arrojará el estudio de clustering con el método de k-medias.\n",
    "#Se analizará mediante un gráfico de barras, la distribución cuantitativa de los clusters, luego nos valdremos del análisis\n",
    "#mediante la librería de Folium para ubicar dónde están dichos clusters y así poder vislumbrar cuáles son las áreas \n",
    "#con mayor flujo comercial. Esto se realizará, primero, de forma genérica, es decir, para un estudio netamente\n",
    "#de densidad respecto a las áreas más comerciales y, posteriormente, se filtrarán los resultados de acuerdo a potenciales \n",
    "#clientes que necesitan saber en qué area montar su negocio, teniendo en cuenta no solo el flujo comercial general, \n",
    "#sino áreas específicas de interés como es la cercanía a colegios si el negocio a montar es una librería, o la cercanía \n",
    "#a un parque si el negocio es un local de alimentos saludables."
   ]
  },
  {
   "cell_type": "code",
   "execution_count": null,
   "id": "bf3a506a",
   "metadata": {},
   "outputs": [],
   "source": [
    "#RESULTADOS:\n",
    "#Vemos que el cluster número 3 en color turquesa en el mapa, es el área con mayor flujo comercial de Manhattan, cercano al Museo\n",
    "#de Ciencias Naturales y del parque Theodoro Roosevelt. Posteriormente, el área más densa corresponde al cluster número 2 en color\n",
    "#celeste oscuro y el 5 en color verde agua con igual número de observaciones en base a los datos de la API de Google Places.\n",
    "#En forma genérica, podemos concluir que alrededor de estos 3 clusters, es conveniente iniciar un negocio comercial\n",
    "#por ser el foco comercial más importante de Manhattan."
   ]
  },
  {
   "cell_type": "code",
   "execution_count": null,
   "id": "074eefe8",
   "metadata": {},
   "outputs": [],
   "source": [
    "#Adicionalmente, podemos estudiar, de acuerdo al tipo de negocio que quiera abrirse, podemos especificar la zona de mayor\n",
    "#interés que nuestro cliente puede tener. Por ejemplo, si quiere abrir una librería comercial, estará interesado por ejemplo,\n",
    "#lugares donde haya colegios cerca. Observamos que en el área estudiada hay dos ubicaciones con colegios, la observación número \n",
    "#14 \n",
    "#y la 16 correspondiente al cluster 7 ubicado en West 84th Street.\n",
    "#De la misma manera, podemos filtrar nuestra área de interés a lugares donde haya un parque cerca, emparejando este criterio\n",
    "#a que las personas que lo visitan (pues están interesadas en llevar una vida saludable), son un flujo de potenciales\n",
    "#clientes para un negocio de comida saludable o tienda naturista.#Observamos que en el área estudiada hay solo una ubicación \n",
    "#con un parque, la observación número 6 correspondiente al cluster número 4 está ubicado en el Central Park, con lo cual, \n",
    "#un punto interesante para montar un local de comida saludable puede ser la 86th Street Transverse y las avenidas que rodean \n",
    "#el parque."
   ]
  },
  {
   "cell_type": "code",
   "execution_count": null,
   "id": "fc5baf99",
   "metadata": {},
   "outputs": [],
   "source": [
    "#CONCLUSIONES:\n",
    "#De acuerdo al tipo de negocio que quiera empezar nuestro cliente, no solo podemos enfocarnos en las áreas más densas\n",
    "#o, con mayor flujo comercial, sino que el principal criterio a utilizar, deberá ser, estudiar que tipo de preferencias \n",
    "#tiene el cliente potencial del negocio, para así poder ubicarnos cerca de aquel lugar, como en el ejemplo, para una librería comercial,\n",
    "#estar ubicados cercanos a colegios, o en el caso de una tienda naturista, puede ser cercano a un parque o a un gimnasio."
   ]
  }
 ],
 "metadata": {
  "kernelspec": {
   "display_name": "Python 3 (ipykernel)",
   "language": "python",
   "name": "python3"
  },
  "language_info": {
   "codemirror_mode": {
    "name": "ipython",
    "version": 3
   },
   "file_extension": ".py",
   "mimetype": "text/x-python",
   "name": "python",
   "nbconvert_exporter": "python",
   "pygments_lexer": "ipython3",
   "version": "3.9.12"
  }
 },
 "nbformat": 4,
 "nbformat_minor": 5
}
